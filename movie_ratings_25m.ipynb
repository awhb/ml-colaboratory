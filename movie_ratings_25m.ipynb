{
  "nbformat": 4,
  "nbformat_minor": 0,
  "metadata": {
    "colab": {
      "provenance": [],
      "authorship_tag": "ABX9TyPWe/Tcz9gTnN99OO6Eg1cd",
      "include_colab_link": true
    },
    "kernelspec": {
      "name": "python3",
      "display_name": "Python 3"
    },
    "language_info": {
      "name": "python"
    }
  },
  "cells": [
    {
      "cell_type": "markdown",
      "metadata": {
        "id": "view-in-github",
        "colab_type": "text"
      },
      "source": [
        "<a href=\"https://colab.research.google.com/github/awhb/ml-colaboratory/blob/main/movie_ratings_25m.ipynb\" target=\"_parent\"><img src=\"https://colab.research.google.com/assets/colab-badge.svg\" alt=\"Open In Colab\"/></a>"
      ]
    },
    {
      "cell_type": "code",
      "execution_count": null,
      "metadata": {
        "id": "Q6L33OQjKr_O"
      },
      "outputs": [],
      "source": [
        "import pandas as pd\n",
        "import numpy as np\n",
        "import matplotlib.pyplot as plt\n",
        "from imblearn.over_sampling import RandomOverSampler\n",
        "from sklearn.preprocessing import StandardScaler\n",
        "import copy\n",
        "import seaborn as sns\n",
        "import tensorflow as tf"
      ]
    },
    {
      "cell_type": "markdown",
      "source": [
        " Data source: https://grouplens.org/datasets/movielens/25m/"
      ],
      "metadata": {
        "id": "g32pGd25NAwB"
      }
    },
    {
      "cell_type": "markdown",
      "source": [],
      "metadata": {
        "id": "5S3RC1UtmkRN"
      }
    },
    {
      "cell_type": "markdown",
      "source": [],
      "metadata": {
        "id": "XahSrD2EmlFO"
      }
    },
    {
      "cell_type": "code",
      "source": [
        "# Read csv files\n",
        "df_movies = pd.read_csv(\"movies.csv\");\n",
        "df_ratings = pd.read_csv(\"ratings.csv\");\n",
        "\n",
        "print(df_movies.head())\n",
        "print(df_ratings.head())"
      ],
      "metadata": {
        "colab": {
          "base_uri": "https://localhost:8080/"
        },
        "id": "8UVR0VUp42Uv",
        "outputId": "9c1b8efa-1ef7-41b6-d05c-d8e4aaba7a5f"
      },
      "execution_count": null,
      "outputs": [
        {
          "output_type": "stream",
          "name": "stdout",
          "text": [
            "   movieId                               title  \\\n",
            "0        1                    Toy Story (1995)   \n",
            "1        2                      Jumanji (1995)   \n",
            "2        3             Grumpier Old Men (1995)   \n",
            "3        4            Waiting to Exhale (1995)   \n",
            "4        5  Father of the Bride Part II (1995)   \n",
            "\n",
            "                                        genres  \n",
            "0  Adventure|Animation|Children|Comedy|Fantasy  \n",
            "1                   Adventure|Children|Fantasy  \n",
            "2                               Comedy|Romance  \n",
            "3                         Comedy|Drama|Romance  \n",
            "4                                       Comedy  \n",
            "   userId  movieId  rating   timestamp\n",
            "0       1      296     5.0  1147880044\n",
            "1       1      306     3.5  1147868817\n",
            "2       1      307     5.0  1147868828\n",
            "3       1      665     5.0  1147878820\n",
            "4       1      899     3.5  1147868510\n"
          ]
        }
      ]
    },
    {
      "cell_type": "code",
      "source": [
        "# Pre-process dataframe of ratings to obtain dataframe of average ratings of each movieId\n",
        "df_average_ratings = df_ratings.groupby('movieId')['rating'].mean().reset_index()\n",
        "\n",
        "print(df_average_ratings.head())"
      ],
      "metadata": {
        "colab": {
          "base_uri": "https://localhost:8080/"
        },
        "id": "LaM2hxUP9MXz",
        "outputId": "bbc3e741-6faa-444c-a93e-06917c6ea090"
      },
      "execution_count": null,
      "outputs": [
        {
          "output_type": "stream",
          "name": "stdout",
          "text": [
            "   movieId    rating\n",
            "0        1  3.891078\n",
            "1        2  3.256774\n",
            "2        3  3.146718\n",
            "3        4  2.888509\n",
            "4        5  3.060153\n"
          ]
        }
      ]
    },
    {
      "cell_type": "code",
      "source": [
        "# Merge the datasets based on 'movieId'\n",
        "df = df_movies.reset_index().merge(df_average_ratings.reset_index(), on = 'movieId', how = 'inner')\n",
        "\n",
        "# Display the merged DataFrame\n",
        "print(df)"
      ],
      "metadata": {
        "colab": {
          "base_uri": "https://localhost:8080/"
        },
        "id": "dbNR8uqp5Whj",
        "outputId": "f2d13d80-b2b8-463a-f2b3-41cff2d0bd98"
      },
      "execution_count": null,
      "outputs": [
        {
          "output_type": "stream",
          "name": "stdout",
          "text": [
            "       index_x  movieId                               title  \\\n",
            "0            0        1                    Toy Story (1995)   \n",
            "1            1        2                      Jumanji (1995)   \n",
            "2            2        3             Grumpier Old Men (1995)   \n",
            "3            3        4            Waiting to Exhale (1995)   \n",
            "4            4        5  Father of the Bride Part II (1995)   \n",
            "...        ...      ...                                 ...   \n",
            "43262    62388   209053                      Bowling (2012)   \n",
            "43263    62389   209055         Very Well, Thank You (2007)   \n",
            "43264    62394   209069                    Snapshots (2002)   \n",
            "43265    62401   209103       Tsar Ivan the Terrible (1991)   \n",
            "43266    62420   209163                    Bad Poems (2018)   \n",
            "\n",
            "                                            genres  index_y    rating  \n",
            "0      Adventure|Animation|Children|Comedy|Fantasy        0  3.891078  \n",
            "1                       Adventure|Children|Fantasy        1  3.256774  \n",
            "2                                   Comedy|Romance        2  3.146718  \n",
            "3                             Comedy|Drama|Romance        3  2.888509  \n",
            "4                                           Comedy        4  3.060153  \n",
            "...                                            ...      ...       ...  \n",
            "43262                                       Comedy    43262  3.500000  \n",
            "43263                                 Comedy|Drama    43263  3.500000  \n",
            "43264                                Drama|Romance    43264  3.000000  \n",
            "43265                           (no genres listed)    43265  4.000000  \n",
            "43266                                 Comedy|Drama    43266  4.500000  \n",
            "\n",
            "[43267 rows x 6 columns]\n"
          ]
        }
      ]
    },
    {
      "cell_type": "code",
      "source": [
        "# Isolate classification in genres\n",
        "genres_df = df['genres'].str.get_dummies(sep='|')\n",
        "df = pd.concat([df, genres_df], axis=1)\n",
        "print(df.head())"
      ],
      "metadata": {
        "id": "dM06NAf8Npsb",
        "colab": {
          "base_uri": "https://localhost:8080/"
        },
        "outputId": "7feb7674-6c3e-48a2-d10c-aeb4337c00c8"
      },
      "execution_count": null,
      "outputs": [
        {
          "output_type": "stream",
          "name": "stdout",
          "text": [
            "   index_x  movieId                               title  \\\n",
            "0        0        1                    Toy Story (1995)   \n",
            "1        1        2                      Jumanji (1995)   \n",
            "2        2        3             Grumpier Old Men (1995)   \n",
            "3        3        4            Waiting to Exhale (1995)   \n",
            "4        4        5  Father of the Bride Part II (1995)   \n",
            "\n",
            "                                        genres  index_y    rating  \\\n",
            "0  Adventure|Animation|Children|Comedy|Fantasy        0  3.891078   \n",
            "1                   Adventure|Children|Fantasy        1  3.256774   \n",
            "2                               Comedy|Romance        2  3.146718   \n",
            "3                         Comedy|Drama|Romance        3  2.888509   \n",
            "4                                       Comedy        4  3.060153   \n",
            "\n",
            "   (no genres listed)  Action  Adventure  Animation  ...  Film-Noir  Horror  \\\n",
            "0                   0       0          1          1  ...          0       0   \n",
            "1                   0       0          1          0  ...          0       0   \n",
            "2                   0       0          0          0  ...          0       0   \n",
            "3                   0       0          0          0  ...          0       0   \n",
            "4                   0       0          0          0  ...          0       0   \n",
            "\n",
            "   IMAX  Musical  Mystery  Romance  Sci-Fi  Thriller  War  Western  \n",
            "0     0        0        0        0       0         0    0        0  \n",
            "1     0        0        0        0       0         0    0        0  \n",
            "2     0        0        0        1       0         0    0        0  \n",
            "3     0        0        0        1       0         0    0        0  \n",
            "4     0        0        0        0       0         0    0        0  \n",
            "\n",
            "[5 rows x 26 columns]\n"
          ]
        }
      ]
    },
    {
      "cell_type": "code",
      "source": [
        "df = df.drop([\"index_x\", \"title\", \"genres\", \"index_y\"], axis=1)\n",
        "print(df.head())"
      ],
      "metadata": {
        "colab": {
          "base_uri": "https://localhost:8080/"
        },
        "id": "mLVY4kIV-9Mq",
        "outputId": "a81bb946-faa0-42d6-cacb-abe96e11052a"
      },
      "execution_count": null,
      "outputs": [
        {
          "output_type": "stream",
          "name": "stdout",
          "text": [
            "   movieId    rating  (no genres listed)  Action  Adventure  Animation  \\\n",
            "0        1  3.891078                   0       0          1          1   \n",
            "1        2  3.256774                   0       0          1          0   \n",
            "2        3  3.146718                   0       0          0          0   \n",
            "3        4  2.888509                   0       0          0          0   \n",
            "4        5  3.060153                   0       0          0          0   \n",
            "\n",
            "   Children  Comedy  Crime  Documentary  ...  Film-Noir  Horror  IMAX  \\\n",
            "0         1       1      0            0  ...          0       0     0   \n",
            "1         1       0      0            0  ...          0       0     0   \n",
            "2         0       1      0            0  ...          0       0     0   \n",
            "3         0       1      0            0  ...          0       0     0   \n",
            "4         0       1      0            0  ...          0       0     0   \n",
            "\n",
            "   Musical  Mystery  Romance  Sci-Fi  Thriller  War  Western  \n",
            "0        0        0        0       0         0    0        0  \n",
            "1        0        0        0       0         0    0        0  \n",
            "2        0        0        1       0         0    0        0  \n",
            "3        0        0        1       0         0    0        0  \n",
            "4        0        0        0       0         0    0        0  \n",
            "\n",
            "[5 rows x 22 columns]\n"
          ]
        }
      ]
    },
    {
      "cell_type": "code",
      "source": [
        "train, val, test = np.split(df.sample(frac=1), [int(0.6*len(df)), int(0.8*len(df))])"
      ],
      "metadata": {
        "id": "Th13xY4G_-JP"
      },
      "execution_count": null,
      "outputs": []
    },
    {
      "cell_type": "code",
      "source": [
        "def get_xy(dataframe, y_label, x_labels=None):\n",
        "  dataframe = copy.deepcopy(dataframe)\n",
        "  if x_labels is None:\n",
        "    X = dataframe[[c for c in dataframe.columns if c!=y_label]].values\n",
        "  else:\n",
        "    if len(x_labels) == 1:\n",
        "      X = dataframe[x_labels[0]].values.reshape(-1, 1)\n",
        "    else:\n",
        "      X = dataframe[x_labels].values\n",
        "\n",
        "  y = dataframe[y_label].values.reshape(-1, 1)\n",
        "  data = np.hstack((X, y))\n",
        "\n",
        "  return data, X, y\n",
        "\n",
        "_, X_train, y_train = get_xy(train, \"rating\")\n",
        "_, X_val, y_val = get_xy(val, \"rating\")\n",
        "_, X_test, y_test = get_xy(test, \"rating\")"
      ],
      "metadata": {
        "id": "Y7M-x44VAEV7"
      },
      "execution_count": null,
      "outputs": []
    },
    {
      "cell_type": "code",
      "source": [
        "normalizer = tf.keras.layers.Normalization(input_shape=(21,), axis=-1)\n",
        "normalizer.adapt(X_train)"
      ],
      "metadata": {
        "id": "gcNLtkxXO_v1"
      },
      "execution_count": null,
      "outputs": []
    },
    {
      "cell_type": "code",
      "source": [
        "nn_model = tf.keras.Sequential([\n",
        "    normalizer,\n",
        "    tf.keras.layers.Dense(32, activation='relu'),\n",
        "    tf.keras.layers.Dense(32, activation='relu'),\n",
        "    tf.keras.layers.Dense(1)\n",
        "])\n",
        "nn_model.compile(optimizer=tf.keras.optimizers.Adam(learning_rate=0.01), loss='mean_absolute_error')"
      ],
      "metadata": {
        "id": "ONyaQr7OGn1n"
      },
      "execution_count": 62,
      "outputs": []
    },
    {
      "cell_type": "code",
      "source": [
        "def plot_loss(history):\n",
        "  plt.plot(history.history['loss'], label='loss')\n",
        "  plt.plot(history.history['val_loss'], label='val_loss')\n",
        "  plt.xlabel('Epoch')\n",
        "  plt.ylabel('MSE')\n",
        "  plt.legend()\n",
        "  plt.grid(True)\n",
        "  plt.show()"
      ],
      "metadata": {
        "id": "PXkqjcWzX85U"
      },
      "execution_count": 63,
      "outputs": []
    },
    {
      "cell_type": "code",
      "source": [
        "history = nn_model.fit(\n",
        "    X_train, y_train,\n",
        "    validation_data=(X_val, y_val),\n",
        "    verbose=0, epochs=100\n",
        ")\n",
        "\n",
        "plot_loss(history)"
      ],
      "metadata": {
        "colab": {
          "base_uri": "https://localhost:8080/",
          "height": 449
        },
        "id": "HrG51zrKG4Rh",
        "outputId": "b0177af9-3068-4d24-e6af-2b1803341b30"
      },
      "execution_count": 64,
      "outputs": [
        {
          "output_type": "display_data",
          "data": {
            "text/plain": [
              "<Figure size 640x480 with 1 Axes>"
            ],
            "image/png": "[encoded data removed]"
          },
          "metadata": {}
        }
      ]
    },
    {
      "cell_type": "markdown",
      "source": [
        "Credits:\n",
        "Machine Learning for Everybody – Full Course (Kylie Ying) on https://www.youtube.com/watch?v=i_LwzRVP7bg for helper functions"
      ],
      "metadata": {
        "id": "pdyEjX-3mmxG"
      }
    },
    {
      "cell_type": "code",
      "source": [],
      "metadata": {
        "id": "cKRvbSAFod55"
      },
      "execution_count": null,
      "outputs": []
    }
  ]
}